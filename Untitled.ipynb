{
 "cells": [
  {
   "cell_type": "markdown",
   "id": "49baa780-0bac-43b0-85f5-23c4cfd5ca1e",
   "metadata": {},
   "source": [
    "1) The purpose of Github is for people to have a place to store code, track changes and collaborate with others making it a good resource for group coding projects\n",
    "2) Version control is a process where the changes that have been made are recorded, the purpose of this is to look back on the changes in order to track progress or go back to previous versions if needed.\n",
    "3) Github is a good tool for group collaborations because it allows multiple people to work on the same project (code) at the same time, each member of the group could make changes in seperate branches and merge them with the main code without any permanent overrides. This helps collaborating easier and more organized. "
   ]
  }
 ],
 "metadata": {
  "kernelspec": {
   "display_name": "Python 3 (ipykernel)",
   "language": "python",
   "name": "python3"
  },
  "language_info": {
   "codemirror_mode": {
    "name": "ipython",
    "version": 3
   },
   "file_extension": ".py",
   "mimetype": "text/x-python",
   "name": "python",
   "nbconvert_exporter": "python",
   "pygments_lexer": "ipython3",
   "version": "3.11.9"
  }
 },
 "nbformat": 4,
 "nbformat_minor": 5
}
